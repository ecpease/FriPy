{
 "cells": [
  {
   "cell_type": "markdown",
   "metadata": {},
   "source": [
    "# Pull NWIS Data using a URL"
   ]
  },
  {
   "cell_type": "code",
   "execution_count": 57,
   "metadata": {},
   "outputs": [],
   "source": [
    "# Import packages\n",
    "import pandas as pd\n",
    "import matplotlib\n",
    "import matplotlib.pyplot as plt\n",
    "import numpy as np\n",
    "from datetime import datetime\n",
    "from urllib.request import urlopen\n",
    "\n",
    "# Start timer to see how long it takes for your script to run\n",
    "startTime = datetime.now()\n",
    "\n",
    "site_name = 'USGS'"
   ]
  },
  {
   "cell_type": "code",
   "execution_count": 77,
   "metadata": {},
   "outputs": [],
   "source": [
    "def pull_nwis_data(parameter, site_number, start_date, end_date, site_name):\n",
    "    nwis_url = f'https://waterdata.usgs.gov/nwis/dv?cb_{parameter}=on&cb_72137=on&format=rdb&site_no={site_number}&referred_module=sw&period=&begin_date={start_date}&end_date={end_date}'.format(parameter,site_number,start_date,end_date)\n",
    "    print(nwis_url)"
   ]
  },
  {
   "cell_type": "code",
   "execution_count": 78,
   "metadata": {},
   "outputs": [
    {
     "name": "stdout",
     "output_type": "stream",
     "text": [
      "Dormammu I have come to bargain\n",
      "Dormammu I have come to bargain\n",
      "Dormammu I have come to bargain\n",
      "Dormammu I have come to bargain\n"
     ]
    }
   ],
   "source": [
    "    # Find where in the file the data actually starts and skip rows\n",
    "    for sr in range(25, 35):\n",
    "        try:\n",
    "            df = pd.read_table(nwis_url, skiprows=sr)\n",
    "            if df.columns.values[0] == '5s':\n",
    "                break\n",
    "        except:\n",
    "            print('Dormammu I have come to bargain') # Dr. Strange reference anyone?"
   ]
  },
  {
   "cell_type": "code",
   "execution_count": 79,
   "metadata": {},
   "outputs": [
    {
     "name": "stdout",
     "output_type": "stream",
     "text": [
      "['Name', 'Site', 'DateTime', 'Tz', '{parameter}', 'qual_code']\n"
     ]
    }
   ],
   "source": [
    "    # Rename the columns to something easier to read\n",
    "    columns = ['Name', 'Site', 'DateTime', 'Tz', '{parameter}', 'qual_code']\n",
    "    print(columns)"
   ]
  },
  {
   "cell_type": "code",
   "execution_count": 80,
   "metadata": {},
   "outputs": [
    {
     "name": "stdout",
     "output_type": "stream",
     "text": [
      "                         Name Site  DateTime Tz  {parameter} qual_code\n",
      "USGS 8162501 2017-07-10  1.49    P      0.50  P        752.0         P\n",
      "             2017-07-11  1.46    P      0.56  P        768.0         P\n",
      "             2017-07-12  1.56    P      0.72  P        843.0         P\n",
      "             2017-07-13  1.41    P      0.78  P        913.0         P\n",
      "             2017-07-14  1.31    P      0.75  P        958.0         P\n"
     ]
    }
   ],
   "source": [
    "    # Read the table, skipping the rows\n",
    "    df = pd.read_table(nwis_url, skiprows=sr+1, names=columns)\n",
    "    print(df.head())"
   ]
  },
  {
   "cell_type": "code",
   "execution_count": 81,
   "metadata": {},
   "outputs": [
    {
     "name": "stdout",
     "output_type": "stream",
     "text": [
      "{'USGS'}\n"
     ]
    }
   ],
   "source": [
    "    # Convert to DateTime\n",
    "    df['DateTime'] = pd.to_datetime(df['DateTime'], format='%Y-%m-%d %H:%M:%S')  \n",
    "    df.index = df['DateTime']\n",
    "    print({site_name})"
   ]
  },
  {
   "cell_type": "code",
   "execution_count": 82,
   "metadata": {},
   "outputs": [
    {
     "ename": "SyntaxError",
     "evalue": "'return' outside function (<ipython-input-82-fc9c0627ea8e>, line 3)",
     "output_type": "error",
     "traceback": [
      "\u001b[1;36m  File \u001b[1;32m\"<ipython-input-82-fc9c0627ea8e>\"\u001b[1;36m, line \u001b[1;32m3\u001b[0m\n\u001b[1;33m    return df\u001b[0m\n\u001b[1;37m             ^\u001b[0m\n\u001b[1;31mSyntaxError\u001b[0m\u001b[1;31m:\u001b[0m 'return' outside function\n"
     ]
    }
   ],
   "source": [
    "    # Export to csv with the title you give \n",
    "    df.to_csv(f\"{site_name}\"+'.csv')\n",
    "    return df"
   ]
  },
  {
   "cell_type": "code",
   "execution_count": 84,
   "metadata": {},
   "outputs": [
    {
     "name": "stdout",
     "output_type": "stream",
     "text": [
      "https://waterdata.usgs.gov/nwis/dv?cb_00060=on&cb_72137=on&format=rdb&site_no=08156800&referred_module=sw&period=&begin_date=2018-03-01&end_date=2018-03-18\n"
     ]
    }
   ],
   "source": [
    "# Call the function\n",
    "Shoal_Ck = pull_nwis_data(parameter='00060', site_number='08156800', start_date='2018-03-01', end_date='2018-03-18', site_name='USGS 08156800 Shoal Ck at W 12th St, Austin, TX')\n"
   ]
  },
  {
   "cell_type": "code",
   "execution_count": null,
   "metadata": {},
   "outputs": [],
   "source": []
  },
  {
   "cell_type": "code",
   "execution_count": null,
   "metadata": {},
   "outputs": [],
   "source": []
  },
  {
   "cell_type": "code",
   "execution_count": null,
   "metadata": {},
   "outputs": [],
   "source": []
  }
 ],
 "metadata": {
  "kernelspec": {
   "display_name": "Python 3",
   "language": "python",
   "name": "python3"
  },
  "language_info": {
   "codemirror_mode": {
    "name": "ipython",
    "version": 3
   },
   "file_extension": ".py",
   "mimetype": "text/x-python",
   "name": "python",
   "nbconvert_exporter": "python",
   "pygments_lexer": "ipython3",
   "version": "3.6.0"
  }
 },
 "nbformat": 4,
 "nbformat_minor": 2
}
